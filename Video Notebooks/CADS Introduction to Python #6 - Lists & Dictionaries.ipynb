{
 "cells": [
  {
   "cell_type": "markdown",
   "id": "4cf53553-a671-40ec-8f6f-c75e4466aa92",
   "metadata": {},
   "source": [
    "Carolina Analytics and Data Science @ UNC<br>Introduction to Python for Data Science Series\n",
    "\n",
    "# Video 6: Lists & Dictionaries"
   ]
  },
  {
   "cell_type": "markdown",
   "id": "ce88286c-d56d-4319-b6e2-67914a6dc4f1",
   "metadata": {},
   "source": [
    "## Constructing Lists"
   ]
  },
  {
   "cell_type": "code",
   "execution_count": 14,
   "id": "5db9664a-ff3c-45cc-94ee-bbd718d5175f",
   "metadata": {},
   "outputs": [
    {
     "name": "stdout",
     "output_type": "stream",
     "text": [
      "['Lettuce', 'Tomato', 'Strawberries', 'Cheese']\n",
      "['Lettuce', 'Tomato', 'Strawberries', 'Cheese', 'Blueberries']\n"
     ]
    },
    {
     "data": {
      "text/plain": [
       "5"
      ]
     },
     "execution_count": 14,
     "metadata": {},
     "output_type": "execute_result"
    }
   ],
   "source": [
    "# List - Create a collection, \"list\" of like items stored in a variable\n",
    "\n",
    "#Creating an empty list\n",
    "my_list = []\n",
    "\n",
    "grocery_list = [\"Lettuce\", \"Tomato\", \"Strawberries\", \"Cheese\"]\n",
    "print(grocery_list)\n",
    "type(grocery_list)\n",
    "\n",
    "grocery_list.append(\"Blueberries\")\n",
    "print(grocery_list)\n",
    "\n",
    "len(grocery_list)"
   ]
  },
  {
   "cell_type": "markdown",
   "id": "5bc03e7c-a4d8-49b1-b150-34c99c4a16fe",
   "metadata": {},
   "source": [
    "## The Return of Indexing"
   ]
  },
  {
   "cell_type": "code",
   "execution_count": 18,
   "id": "eeb11ac4-06c7-4f8f-9c26-b9637ade0f7d",
   "metadata": {},
   "outputs": [
    {
     "name": "stdout",
     "output_type": "stream",
     "text": [
      "['Lettuce', 'Tomato', 'Strawberries', 'Cheese', 'Blueberries']\n",
      "Blueberries\n",
      "Blueberries\n"
     ]
    }
   ],
   "source": [
    "grocery_list\n",
    "\n",
    "# Recall...\n",
    "#my_str = \"Hello world!\"\n",
    "#print(my_str[0])\n",
    "\n",
    "print(grocery_list)\n",
    "print(grocery_list[len(grocery_list) - 1])\n",
    "print(grocery_list[-1])"
   ]
  },
  {
   "cell_type": "markdown",
   "id": "f06cb4c6-06ee-48b3-8ff4-33aec64af873",
   "metadata": {},
   "source": [
    "## Dictionaries"
   ]
  },
  {
   "cell_type": "code",
   "execution_count": 20,
   "id": "b0e3ab41-b7a7-4f91-80c7-74ec8fae4fa7",
   "metadata": {},
   "outputs": [
    {
     "name": "stdout",
     "output_type": "stream",
     "text": [
      "{'Brand': 'Logitech', 'Size': 'Full size', 'Numberpad': True}\n"
     ]
    }
   ],
   "source": [
    "# Dictionary - Collection of key, value pairs\n",
    "my_dict = {\"Brand\" : \"Logitech\", \"Size\" : \"Full size\", \"Numberpad\" : True}\n",
    "print(my_dict)"
   ]
  },
  {
   "cell_type": "code",
   "execution_count": 21,
   "id": "5b1b8840-14e5-42db-9886-eb1dba0f36de",
   "metadata": {},
   "outputs": [
    {
     "name": "stdout",
     "output_type": "stream",
     "text": [
      "Logitech\n"
     ]
    }
   ],
   "source": [
    "print(my_dict[\"Brand\"])"
   ]
  },
  {
   "cell_type": "code",
   "execution_count": 22,
   "id": "86c00efd-7283-4b71-aef2-c06249a75884",
   "metadata": {},
   "outputs": [
    {
     "name": "stdout",
     "output_type": "stream",
     "text": [
      "True\n"
     ]
    }
   ],
   "source": [
    "print(my_dict[\"Numberpad\"])"
   ]
  },
  {
   "cell_type": "code",
   "execution_count": 23,
   "id": "853c3ef1-6745-40ad-9e23-af313e51c99d",
   "metadata": {},
   "outputs": [
    {
     "ename": "KeyError",
     "evalue": "0",
     "output_type": "error",
     "traceback": [
      "\u001b[0;31m---------------------------------------------------------------------------\u001b[0m",
      "\u001b[0;31mKeyError\u001b[0m                                  Traceback (most recent call last)",
      "\u001b[0;32m<ipython-input-23-a8e34e6ee555>\u001b[0m in \u001b[0;36m<module>\u001b[0;34m\u001b[0m\n\u001b[0;32m----> 1\u001b[0;31m \u001b[0mprint\u001b[0m\u001b[0;34m(\u001b[0m\u001b[0mmy_dict\u001b[0m\u001b[0;34m[\u001b[0m\u001b[0;36m0\u001b[0m\u001b[0;34m]\u001b[0m\u001b[0;34m)\u001b[0m\u001b[0;34m\u001b[0m\u001b[0;34m\u001b[0m\u001b[0m\n\u001b[0m",
      "\u001b[0;31mKeyError\u001b[0m: 0"
     ]
    }
   ],
   "source": [
    "print(my_dict[0])"
   ]
  },
  {
   "cell_type": "code",
   "execution_count": null,
   "id": "8fd95cd0-dde7-4b97-93ae-5f3a885a588d",
   "metadata": {},
   "outputs": [],
   "source": []
  }
 ],
 "metadata": {
  "kernelspec": {
   "display_name": "Python 3 (ipykernel)",
   "language": "python",
   "name": "python3"
  },
  "language_info": {
   "codemirror_mode": {
    "name": "ipython",
    "version": 3
   },
   "file_extension": ".py",
   "mimetype": "text/x-python",
   "name": "python",
   "nbconvert_exporter": "python",
   "pygments_lexer": "ipython3",
   "version": "3.9.7"
  }
 },
 "nbformat": 4,
 "nbformat_minor": 5
}
