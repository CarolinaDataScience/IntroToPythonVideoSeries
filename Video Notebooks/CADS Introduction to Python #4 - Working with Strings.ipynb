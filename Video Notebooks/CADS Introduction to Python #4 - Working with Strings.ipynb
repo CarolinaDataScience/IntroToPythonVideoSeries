{
 "cells": [
  {
   "cell_type": "markdown",
   "id": "04818a21-e0df-46a7-8799-a61fd96aff46",
   "metadata": {},
   "source": [
    "Carolina Analytics and Data Science @ UNC<br>Introduction to Python for Data Science Series\n",
    "\n",
    "# Video 4: Working with Strings"
   ]
  },
  {
   "cell_type": "markdown",
   "id": "54b8dd54-b1d9-44e9-8d1c-84698647e427",
   "metadata": {},
   "source": [
    "## Strings"
   ]
  },
  {
   "cell_type": "code",
   "execution_count": 3,
   "id": "cd2246cd-7d28-4ef0-ae0f-511908519da7",
   "metadata": {},
   "outputs": [
    {
     "name": "stdout",
     "output_type": "stream",
     "text": [
      "Hello, world!\n"
     ]
    },
    {
     "data": {
      "text/plain": [
       "13"
      ]
     },
     "execution_count": 3,
     "metadata": {},
     "output_type": "execute_result"
    }
   ],
   "source": [
    "# name = value\n",
    "my_str = \"Hello, world!\"\n",
    "print(my_str)\n",
    "type(my_str)\n",
    "\n",
    "# Count the number of characters in a string\n",
    "len(my_str)"
   ]
  },
  {
   "cell_type": "markdown",
   "id": "7a1f69b9-3186-4475-8d8e-e1199c4da72a",
   "metadata": {},
   "source": [
    "## Concatenation"
   ]
  },
  {
   "cell_type": "code",
   "execution_count": 6,
   "id": "64da0d26-0e75-4dfb-b44e-4b84966ad871",
   "metadata": {},
   "outputs": [
    {
     "name": "stdout",
     "output_type": "stream",
     "text": [
      "Hello world!\n"
     ]
    }
   ],
   "source": [
    "word_1 = \"Hello\"\n",
    "word_2 = \"world\"\n",
    "sample_sentence = word_1 + \" \" + word_2 + \"!\"\n",
    "print(sample_sentence)"
   ]
  },
  {
   "cell_type": "code",
   "execution_count": 11,
   "id": "dd81c34a-b2a7-49b0-a9e0-8de453a8e832",
   "metadata": {},
   "outputs": [
    {
     "name": "stdout",
     "output_type": "stream",
     "text": [
      "My age is 50\n"
     ]
    }
   ],
   "source": [
    "sentence_1 = \"My age is \"\n",
    "age = 50\n",
    "sentence_2 = sentence_1 + str(age)\n",
    "print(sentence_2)"
   ]
  },
  {
   "cell_type": "markdown",
   "id": "a3b58263-f687-47e1-b550-94e94b916b56",
   "metadata": {},
   "source": [
    "## Indexing"
   ]
  },
  {
   "cell_type": "code",
   "execution_count": null,
   "id": "df3aac5b-4b76-49e3-86e0-61670240f4e5",
   "metadata": {},
   "outputs": [],
   "source": [
    "# H e l l o   w o r l  d  !\n",
    "# 0 1 2 3 4 5 6 7 8 9 10 11"
   ]
  },
  {
   "cell_type": "code",
   "execution_count": 23,
   "id": "81e95443-c5b1-44fd-b20c-2e799d1bf934",
   "metadata": {},
   "outputs": [
    {
     "name": "stdout",
     "output_type": "stream",
     "text": [
      "Hello world!\n",
      "H\n",
      "Hello\n"
     ]
    }
   ],
   "source": [
    "print(sample_sentence)\n",
    "print(sample_sentence[0])\n",
    "print(sample_sentence[0 : 5])"
   ]
  },
  {
   "cell_type": "markdown",
   "id": "5f7100fe-799d-41ce-960b-95e06a60bd39",
   "metadata": {},
   "source": [
    "## Escape Characters"
   ]
  },
  {
   "cell_type": "code",
   "execution_count": 30,
   "id": "9ee71535-8476-4f14-ab2b-efc4371f2713",
   "metadata": {},
   "outputs": [
    {
     "name": "stdout",
     "output_type": "stream",
     "text": [
      "\"Hello world!\" - Ajay's Dog\n"
     ]
    }
   ],
   "source": [
    "my_str = \"\\\"Hello world!\\\" - Ajay's Dog\"\n",
    "print(my_str)"
   ]
  },
  {
   "cell_type": "code",
   "execution_count": null,
   "id": "b6c1ef15-363a-4d48-a2f0-0b3f205e7f76",
   "metadata": {},
   "outputs": [],
   "source": [
    "# \\n - New line\n",
    "# \\t - Tab\n",
    "# \\\" - Quotation mark"
   ]
  }
 ],
 "metadata": {
  "kernelspec": {
   "display_name": "Python 3 (ipykernel)",
   "language": "python",
   "name": "python3"
  },
  "language_info": {
   "codemirror_mode": {
    "name": "ipython",
    "version": 3
   },
   "file_extension": ".py",
   "mimetype": "text/x-python",
   "name": "python",
   "nbconvert_exporter": "python",
   "pygments_lexer": "ipython3",
   "version": "3.9.7"
  }
 },
 "nbformat": 4,
 "nbformat_minor": 5
}
