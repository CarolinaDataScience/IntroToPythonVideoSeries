{
 "cells": [
  {
   "cell_type": "markdown",
   "id": "d9fd1e87-15da-4ebf-be29-694993065e9b",
   "metadata": {},
   "source": [
    "Carolina Analytics and Data Science @ UNC<br>Introduction to Python for Data Science Series\n",
    "\n",
    "# Video 3: Arithmetic in Python"
   ]
  },
  {
   "cell_type": "markdown",
   "id": "b7761e2f-2c24-4c90-9be5-71a7d6a8245d",
   "metadata": {},
   "source": [
    "## Modifying Variables"
   ]
  },
  {
   "cell_type": "code",
   "execution_count": 33,
   "id": "29451de3-5480-4f79-a0cd-007a839bb8d1",
   "metadata": {},
   "outputs": [
    {
     "name": "stdout",
     "output_type": "stream",
     "text": [
      "255\n",
      "300\n"
     ]
    }
   ],
   "source": [
    "num_passengers = 255\n",
    "print(num_passengers)\n",
    "\n",
    "num_passengers = 300\n",
    "print(num_passengers)"
   ]
  },
  {
   "cell_type": "markdown",
   "id": "6b3131c9-31f5-408c-bb00-cb2d6a8451bc",
   "metadata": {},
   "source": [
    "## Artithmetic Operators"
   ]
  },
  {
   "cell_type": "code",
   "execution_count": 28,
   "id": "fd484a2c-9b85-4fcc-8579-84bc3e57e637",
   "metadata": {},
   "outputs": [
    {
     "name": "stdout",
     "output_type": "stream",
     "text": [
      "15\n",
      "320\n",
      "24\n",
      "318\n",
      "24\n",
      "48\n",
      "4.0\n",
      "8\n",
      "5.0\n",
      "1.8\n",
      "4\n"
     ]
    }
   ],
   "source": [
    "# ORDER OF OPERATIONS!!!!!!\n",
    "\n",
    "# Addition (+)\n",
    "my_sum = 8 + 7\n",
    "print(my_sum)\n",
    "\n",
    "new_passengers = num_passengers + 20\n",
    "print(new_passengers)\n",
    "\n",
    "# Subtraction (-)\n",
    "my_diff = 80 - 56\n",
    "print(my_diff)\n",
    "\n",
    "smaller_passengers = new_passengers - 2\n",
    "print(smaller_passengers)\n",
    "\n",
    "# Multiplication (*)\n",
    "my_product = 4 * 6\n",
    "print(my_product)\n",
    "\n",
    "my_new_product = my_product * 2\n",
    "print(my_new_product)\n",
    "\n",
    "# Division (/)\n",
    "my_div = 8 / 2\n",
    "print(my_div)\n",
    "type(my_div)\n",
    "\n",
    "# Exponents (**)\n",
    "my_power = 2 ** 3\n",
    "print(my_power)\n",
    "\n",
    "my_sqrt = 25 ** 0.5\n",
    "print(my_sqrt)\n",
    "type(my_sqrt)\n",
    "\n",
    "# Modulus Division (%)\n",
    "div_1 = 9 / 5\n",
    "print(div_1)\n",
    "mod = 9 % 5\n",
    "print(mod)"
   ]
  },
  {
   "cell_type": "code",
   "execution_count": 39,
   "id": "d397a0c3-9fde-4e96-b033-f36e7b4b6911",
   "metadata": {},
   "outputs": [
    {
     "name": "stdout",
     "output_type": "stream",
     "text": [
      "24.6\n"
     ]
    }
   ],
   "source": [
    "math = 8.8 * 2 + 3 + (2 * 2)\n",
    "# 24.6\n",
    "print(math)"
   ]
  },
  {
   "cell_type": "markdown",
   "id": "80515fa9-f349-4e0f-a727-72625f0f08a3",
   "metadata": {},
   "source": [
    "## Compound Assignment Operators"
   ]
  },
  {
   "cell_type": "code",
   "execution_count": 34,
   "id": "4f44930c-fd8b-4643-b950-e16916760ff7",
   "metadata": {},
   "outputs": [
    {
     "data": {
      "text/plain": [
       "300"
      ]
     },
     "execution_count": 34,
     "metadata": {},
     "output_type": "execute_result"
    }
   ],
   "source": [
    "num_passengers"
   ]
  },
  {
   "cell_type": "code",
   "execution_count": 35,
   "id": "d116ded2-8ded-4618-b27a-ab04b3eb7d14",
   "metadata": {},
   "outputs": [
    {
     "name": "stdout",
     "output_type": "stream",
     "text": [
      "298\n"
     ]
    }
   ],
   "source": [
    "num_passengers -= 2\n",
    "print(num_passengers)"
   ]
  },
  {
   "cell_type": "code",
   "execution_count": 36,
   "id": "59ec9c6b-9ae4-4818-b385-149c130020cf",
   "metadata": {},
   "outputs": [
    {
     "name": "stdout",
     "output_type": "stream",
     "text": [
      "302\n"
     ]
    }
   ],
   "source": [
    "num_passengers += 4\n",
    "print(num_passengers)"
   ]
  },
  {
   "cell_type": "code",
   "execution_count": 37,
   "id": "bfc21abf-26f2-4a88-8cf2-65769f5f8bad",
   "metadata": {},
   "outputs": [
    {
     "name": "stdout",
     "output_type": "stream",
     "text": [
      "151.0\n"
     ]
    }
   ],
   "source": [
    "num_passengers /= 2\n",
    "print(num_passengers)"
   ]
  },
  {
   "cell_type": "code",
   "execution_count": null,
   "id": "b7e85388-a580-497b-bf7c-dc1d642a7377",
   "metadata": {},
   "outputs": [],
   "source": [
    "# +=  -=  *=  /= **=  %="
   ]
  }
 ],
 "metadata": {
  "kernelspec": {
   "display_name": "Python 3 (ipykernel)",
   "language": "python",
   "name": "python3"
  },
  "language_info": {
   "codemirror_mode": {
    "name": "ipython",
    "version": 3
   },
   "file_extension": ".py",
   "mimetype": "text/x-python",
   "name": "python",
   "nbconvert_exporter": "python",
   "pygments_lexer": "ipython3",
   "version": "3.9.7"
  }
 },
 "nbformat": 4,
 "nbformat_minor": 5
}
