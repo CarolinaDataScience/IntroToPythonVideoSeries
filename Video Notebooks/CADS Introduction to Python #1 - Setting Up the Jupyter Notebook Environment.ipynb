{
 "cells": [
  {
   "cell_type": "markdown",
   "id": "d66afd6a-8b70-4dd9-82c8-4af916345ba7",
   "metadata": {},
   "source": [
    "Carolina Analytics and Data Science @ UNC<br>Introduction to Python for Data Science Series\n",
    "\n",
    "# Video 1: Setting Up the Jupyter Notebook Environment"
   ]
  },
  {
   "cell_type": "code",
   "execution_count": 8,
   "id": "082d1e74-2afd-454d-92f1-a2d99b210591",
   "metadata": {},
   "outputs": [
    {
     "name": "stdout",
     "output_type": "stream",
     "text": [
      "Hello world!\n"
     ]
    }
   ],
   "source": [
    "print(\"Hello world!\")"
   ]
  },
  {
   "cell_type": "markdown",
   "id": "e2d94c3a-b495-4406-8385-2b5d9b094b8c",
   "metadata": {},
   "source": [
    "The cell below outputs the word \"Another!\""
   ]
  },
  {
   "cell_type": "code",
   "execution_count": 9,
   "id": "056206ad-f26a-4a9f-958f-c936ad49c500",
   "metadata": {},
   "outputs": [
    {
     "name": "stdout",
     "output_type": "stream",
     "text": [
      "Another!\n"
     ]
    }
   ],
   "source": [
    "print(\"Another!\")"
   ]
  },
  {
   "cell_type": "markdown",
   "id": "65aa02fd-9a38-406b-9c8f-0ab8d575fe6f",
   "metadata": {},
   "source": [
    "# Header 1"
   ]
  },
  {
   "cell_type": "markdown",
   "id": "6fa0a64e-8a4d-468c-8d06-629509a6cf1d",
   "metadata": {},
   "source": [
    "## Header 2"
   ]
  },
  {
   "cell_type": "markdown",
   "id": "335556b6-4643-426d-82ac-4118cdecf64a",
   "metadata": {},
   "source": [
    "- Bulleted List"
   ]
  },
  {
   "cell_type": "code",
   "execution_count": 10,
   "id": "777ffd7c-056e-448b-bd31-2930cb603c80",
   "metadata": {},
   "outputs": [
    {
     "name": "stdout",
     "output_type": "stream",
     "text": [
      "Hello world!\n"
     ]
    }
   ],
   "source": [
    "print(\"Hello world!\")"
   ]
  },
  {
   "cell_type": "code",
   "execution_count": null,
   "id": "a657ff84-f1ab-4c3b-89ad-610610b1168d",
   "metadata": {},
   "outputs": [],
   "source": [
    "print(\"Another!\")"
   ]
  },
  {
   "cell_type": "code",
   "execution_count": 11,
   "id": "81cbe703-1961-4d1c-a2cc-bec9730f8067",
   "metadata": {},
   "outputs": [
    {
     "name": "stdout",
     "output_type": "stream",
     "text": [
      "Hello world!\n"
     ]
    }
   ],
   "source": [
    "print(\"Hello world!\")"
   ]
  },
  {
   "cell_type": "code",
   "execution_count": null,
   "id": "d2e1b362-a858-4832-944f-18b7e80d055d",
   "metadata": {},
   "outputs": [],
   "source": []
  }
 ],
 "metadata": {
  "kernelspec": {
   "display_name": "Python 3 (ipykernel)",
   "language": "python",
   "name": "python3"
  },
  "language_info": {
   "codemirror_mode": {
    "name": "ipython",
    "version": 3
   },
   "file_extension": ".py",
   "mimetype": "text/x-python",
   "name": "python",
   "nbconvert_exporter": "python",
   "pygments_lexer": "ipython3",
   "version": "3.9.7"
  }
 },
 "nbformat": 4,
 "nbformat_minor": 5
}
