{
 "cells": [
  {
   "cell_type": "markdown",
   "id": "5b9a68cf-53ec-4d91-b5fc-417603847cb2",
   "metadata": {},
   "source": [
    "Carolina Analytics and Data Science @ UNC<br>Introduction to Python for Data Science Series\n",
    "\n",
    "# Video 5: Boolean Expressions and If-Statements"
   ]
  },
  {
   "cell_type": "markdown",
   "id": "888c4235-4e17-45d6-be52-6d514487f04b",
   "metadata": {},
   "source": [
    "## Working with Boolean Expressions"
   ]
  },
  {
   "cell_type": "code",
   "execution_count": 17,
   "id": "9b2144cc-a6bb-4508-b55c-45c8b1986f89",
   "metadata": {},
   "outputs": [
    {
     "name": "stdout",
     "output_type": "stream",
     "text": [
      "True\n",
      "True\n"
     ]
    },
    {
     "data": {
      "text/plain": [
       "bool"
      ]
     },
     "execution_count": 17,
     "metadata": {},
     "output_type": "execute_result"
    }
   ],
   "source": [
    "# Boolean - True / False\n",
    "# name = value\n",
    "my_bool = False\n",
    "\n",
    "# Boolean Expression - Evaluate whether a statement is True or False\n",
    "# Comparisons\n",
    "# Less than - <\n",
    "# Greater than - >\n",
    "# Less than or equal to - <=\n",
    "# Greater than or equal to - >=\n",
    "# Equal - ==\n",
    "# Not equal - !=\n",
    "age = 12\n",
    "childrens_menu_cutoff = 12\n",
    "\n",
    "print(age <= childrens_menu_cutoff)\n",
    "\n",
    "password_guess = \"4321\"\n",
    "actual_password = \"4321\"\n",
    "print(password_guess == actual_password)\n",
    "\n",
    "my_second_bool = age <= childrens_menu_cutoff\n",
    "type(my_second_bool)"
   ]
  },
  {
   "cell_type": "markdown",
   "id": "de03c8b2-20b3-485a-91a5-e7de03bfa45a",
   "metadata": {},
   "source": [
    "## Compound Conditional Operators"
   ]
  },
  {
   "cell_type": "code",
   "execution_count": 20,
   "id": "1a86e3f0-e8d7-4095-8ed6-c747d59c425e",
   "metadata": {},
   "outputs": [
    {
     "name": "stdout",
     "output_type": "stream",
     "text": [
      "True\n"
     ]
    }
   ],
   "source": [
    "# Children's birthday special at a restaurant\n",
    "# Child if age less than 18\n",
    "# Birthday if it is the child's birthday\n",
    "\n",
    "# A and B --> True IF A is true AND B is true, false otherwise\n",
    "# A or B --> True IF A is true OR B is true, false otherwise\n",
    "\n",
    "child_age = 15\n",
    "birthday = False\n",
    "\n",
    "print(child_age < 18 and birthday == True)"
   ]
  },
  {
   "cell_type": "markdown",
   "id": "081469e7-986c-4191-b700-402253a6d7ec",
   "metadata": {},
   "source": [
    "## If Statements"
   ]
  },
  {
   "cell_type": "code",
   "execution_count": null,
   "id": "a7fd2663-afe0-4961-8fa5-2651c468e3c7",
   "metadata": {},
   "outputs": [],
   "source": [
    "# If Statement - Runs certain code IF a certain condition is met\n",
    "\n",
    "if condition:\n",
    "    # This code runs if the condition is TRUE\n",
    "elif condition2:\n",
    "    # This code runs if the first condition is FALSE and this second condition is TRUE.\n",
    "else:\n",
    "    # This code runs of the condition is NOT true"
   ]
  },
  {
   "cell_type": "code",
   "execution_count": 29,
   "id": "2b1dca69-989c-4e85-9534-1edbf475d8a6",
   "metadata": {},
   "outputs": [
    {
     "name": "stdout",
     "output_type": "stream",
     "text": [
      "True\n",
      "This person is eligible for the children's menu, but not for long! Enjoy while you can >:D\n"
     ]
    }
   ],
   "source": [
    "age = 12\n",
    "childrens_menu_cutoff = 12\n",
    "\n",
    "print(age <= childrens_menu_cutoff)\n",
    "\n",
    "if age < childrens_menu_cutoff:\n",
    "    print(\"This person is eligible for the children's menu!\")\n",
    "elif age == childrens_menu_cutoff:\n",
    "    print(\"This person is eligible for the children's menu, but not for long! Enjoy while you can >:D\")\n",
    "else:\n",
    "    print(\"This person is NOT eligible for the chilren's menu...\")"
   ]
  },
  {
   "cell_type": "code",
   "execution_count": null,
   "id": "6d5d8cf1-95a1-4e22-a936-487a80135d1d",
   "metadata": {
    "jupyter": {
     "source_hidden": true
    },
    "tags": []
   },
   "outputs": [],
   "source": []
  }
 ],
 "metadata": {
  "kernelspec": {
   "display_name": "Python 3 (ipykernel)",
   "language": "python",
   "name": "python3"
  },
  "language_info": {
   "codemirror_mode": {
    "name": "ipython",
    "version": 3
   },
   "file_extension": ".py",
   "mimetype": "text/x-python",
   "name": "python",
   "nbconvert_exporter": "python",
   "pygments_lexer": "ipython3",
   "version": "3.9.7"
  }
 },
 "nbformat": 4,
 "nbformat_minor": 5
}
