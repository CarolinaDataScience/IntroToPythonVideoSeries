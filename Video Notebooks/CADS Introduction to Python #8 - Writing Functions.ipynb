{
 "cells": [
  {
   "cell_type": "markdown",
   "id": "7f75e8c9-a62f-4cd1-bf07-58370c264b05",
   "metadata": {},
   "source": [
    "Carolina Analytics and Data Science @ UNC<br>Introduction to Python for Data Science Series\n",
    "\n",
    "# Video 8: Writing Functions"
   ]
  },
  {
   "cell_type": "markdown",
   "id": "ce9049b6-d900-43b5-b462-20ada1262e8c",
   "metadata": {},
   "source": [
    "## Components of a Function"
   ]
  },
  {
   "cell_type": "code",
   "execution_count": null,
   "id": "8e88627b-d776-4b23-8a2e-ec74acafff9e",
   "metadata": {},
   "outputs": [],
   "source": [
    "# Function -- run a pre-defined procedure in our code\n",
    "# inputs (arguments) --> procedure (what is being done) --> output (returned, optional)\n",
    "\n",
    "output = name(argument1, argument2, etc)"
   ]
  },
  {
   "cell_type": "code",
   "execution_count": 10,
   "id": "fe27eac9-19d8-4aab-ac39-6ef732c8226b",
   "metadata": {},
   "outputs": [
    {
     "name": "stdout",
     "output_type": "stream",
     "text": [
      "Hello world!\n",
      "None\n",
      "3\n"
     ]
    }
   ],
   "source": [
    "output = print(\"Hello world!\")\n",
    "print(output)\n",
    "\n",
    "output = len([\"test\", \"test2\", \"test3\"])\n",
    "print(output)"
   ]
  },
  {
   "cell_type": "markdown",
   "id": "3eca3193-f186-43c1-871f-c2220f513a04",
   "metadata": {},
   "source": [
    "## Creating Functions"
   ]
  },
  {
   "cell_type": "code",
   "execution_count": null,
   "id": "33cfa5fd-2cd2-48ea-b1a8-ab321a96c0f7",
   "metadata": {},
   "outputs": [],
   "source": [
    "def name(arg1, arg2):\n",
    "    new_val = arg1 + arg2\n",
    "    return new_val / 2\n"
   ]
  },
  {
   "cell_type": "code",
   "execution_count": 11,
   "id": "eea79610-f903-4d0d-80ed-8dd41ba68b56",
   "metadata": {},
   "outputs": [],
   "source": [
    "def concat(arg1, arg2):\n",
    "    return arg1 + arg2"
   ]
  },
  {
   "cell_type": "markdown",
   "id": "a9fdf069-46ca-4253-8373-2fd6a13cbf7e",
   "metadata": {},
   "source": [
    "## Running Functions"
   ]
  },
  {
   "cell_type": "code",
   "execution_count": 12,
   "id": "47b6e132-8f22-4cb7-82ba-98d7304f6581",
   "metadata": {},
   "outputs": [
    {
     "data": {
      "text/plain": [
       "'Hello, world!'"
      ]
     },
     "execution_count": 12,
     "metadata": {},
     "output_type": "execute_result"
    }
   ],
   "source": [
    "concat(\"Hello, \", \"world!\")"
   ]
  },
  {
   "cell_type": "code",
   "execution_count": 17,
   "id": "91ce47b7-ecc4-4ed6-9d48-dce7ef5d302f",
   "metadata": {},
   "outputs": [],
   "source": [
    "def capitalize_list(list):\n",
    "    empty_list = []\n",
    "    for item in list:\n",
    "        empty_list.append(item.upper())\n",
    "    return empty_list"
   ]
  },
  {
   "cell_type": "code",
   "execution_count": 18,
   "id": "0aea03f2-2982-4225-9ff9-286fbfe09f3b",
   "metadata": {},
   "outputs": [
    {
     "data": {
      "text/plain": [
       "['TEST', 'TEST2', 'TEST3']"
      ]
     },
     "execution_count": 18,
     "metadata": {},
     "output_type": "execute_result"
    }
   ],
   "source": [
    "capitalize_list([\"test\", \"test2\", \"test3\"])"
   ]
  },
  {
   "cell_type": "code",
   "execution_count": null,
   "id": "145693bb-3a75-495e-a709-ad39ab07929e",
   "metadata": {},
   "outputs": [],
   "source": []
  }
 ],
 "metadata": {
  "kernelspec": {
   "display_name": "Python 3 (ipykernel)",
   "language": "python",
   "name": "python3"
  },
  "language_info": {
   "codemirror_mode": {
    "name": "ipython",
    "version": 3
   },
   "file_extension": ".py",
   "mimetype": "text/x-python",
   "name": "python",
   "nbconvert_exporter": "python",
   "pygments_lexer": "ipython3",
   "version": "3.9.7"
  }
 },
 "nbformat": 4,
 "nbformat_minor": 5
}
