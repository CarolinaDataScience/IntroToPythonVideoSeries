{
 "cells": [
  {
   "cell_type": "markdown",
   "id": "153f5460-72cf-4af2-bb2e-ebb19a378356",
   "metadata": {},
   "source": [
    "Carolina Analytics and Data Science @ UNC<br>Introduction to Python for Data Science Series\n",
    "\n",
    "# Video 7: Iteration"
   ]
  },
  {
   "cell_type": "markdown",
   "id": "43ccdaf0-b763-4707-86da-41770f3dfecf",
   "metadata": {},
   "source": [
    "## While loops"
   ]
  },
  {
   "cell_type": "code",
   "execution_count": null,
   "id": "391c299b-6651-4ed0-bea7-b8fb61640728",
   "metadata": {},
   "outputs": [],
   "source": [
    "# While loops - Repeat code WHILE a certain condition is true -- stops when the condition is no longer true\n",
    "while condition:\n",
    "    # Code to repeat here"
   ]
  },
  {
   "cell_type": "code",
   "execution_count": 8,
   "id": "1128e337-7973-447f-bab4-8ba9172f36d5",
   "metadata": {},
   "outputs": [
    {
     "name": "stdout",
     "output_type": "stream",
     "text": [
      "1\n",
      "2\n",
      "3\n",
      "4\n",
      "5\n",
      "6\n",
      "7\n",
      "8\n",
      "9\n",
      "10\n"
     ]
    }
   ],
   "source": [
    "#1 2 3 4 5 6 7 8 9 10\n",
    "num = 1\n",
    "print(num)\n",
    "num += 1\n",
    "print(num)\n",
    "num += 1\n",
    "print(num)\n",
    "num += 1\n",
    "print(num)\n",
    "num += 1\n",
    "print(num)\n",
    "num += 1\n",
    "print(num)\n",
    "num += 1\n",
    "print(num)\n",
    "num += 1\n",
    "print(num)\n",
    "num += 1\n",
    "print(num)\n",
    "num += 1\n",
    "print(num)"
   ]
  },
  {
   "cell_type": "code",
   "execution_count": 12,
   "id": "679b1075-8ad4-431b-99c4-5ce3d30bb189",
   "metadata": {},
   "outputs": [
    {
     "name": "stdout",
     "output_type": "stream",
     "text": [
      "11\n"
     ]
    }
   ],
   "source": [
    "num = 1 # 2 3 4 5 6 7 8 9 10 11\n",
    "while num <= 10:\n",
    "    print(num)\n",
    "    num += 1"
   ]
  },
  {
   "cell_type": "markdown",
   "id": "461f94bc-d0ea-46d7-857f-c19dd593e760",
   "metadata": {},
   "source": [
    "## For loops"
   ]
  },
  {
   "cell_type": "code",
   "execution_count": null,
   "id": "025bb7a2-e57b-4ff9-9db2-f6fb7c9dec5b",
   "metadata": {},
   "outputs": [],
   "source": [
    "# For loop - Repeat code FOR every value in a collection\n",
    "for value in collection:\n",
    "    # Run code here"
   ]
  },
  {
   "cell_type": "code",
   "execution_count": 16,
   "id": "7a547f59-4c51-4562-92e5-bb8258efdc98",
   "metadata": {},
   "outputs": [
    {
     "name": "stdout",
     "output_type": "stream",
     "text": [
      "LETTUCE\n",
      "TOMATO\n",
      "STRAWBERRIES\n",
      "ICE CREAM\n"
     ]
    }
   ],
   "source": [
    "grocery_list = [\"Lettuce\", \"Tomato\", \"Strawberries\", \"Ice Cream\"]\n",
    "\n",
    "print(grocery_list[0].upper())\n",
    "print(grocery_list[1].upper())\n",
    "print(grocery_list[2].upper())\n",
    "print(grocery_list[3].upper())"
   ]
  },
  {
   "cell_type": "code",
   "execution_count": 19,
   "id": "46972168-61d3-4e6c-9a06-98564978865b",
   "metadata": {},
   "outputs": [
    {
     "name": "stdout",
     "output_type": "stream",
     "text": [
      "LETTUCE\n",
      "TOMATO\n",
      "STRAWBERRIES\n",
      "ICE CREAM\n"
     ]
    }
   ],
   "source": [
    "for item in grocery_list:\n",
    "    print(item.upper())"
   ]
  },
  {
   "cell_type": "code",
   "execution_count": null,
   "id": "8caf7bf4-a0fe-4b4d-8b5b-3305eda1aba8",
   "metadata": {},
   "outputs": [],
   "source": []
  }
 ],
 "metadata": {
  "kernelspec": {
   "display_name": "Python 3 (ipykernel)",
   "language": "python",
   "name": "python3"
  },
  "language_info": {
   "codemirror_mode": {
    "name": "ipython",
    "version": 3
   },
   "file_extension": ".py",
   "mimetype": "text/x-python",
   "name": "python",
   "nbconvert_exporter": "python",
   "pygments_lexer": "ipython3",
   "version": "3.9.7"
  }
 },
 "nbformat": 4,
 "nbformat_minor": 5
}
