{
 "cells": [
  {
   "cell_type": "markdown",
   "id": "e055f25d-78ed-46f7-af5f-4255865ee061",
   "metadata": {},
   "source": [
    "Carolina Analytics and Data Science @ UNC<br>Introduction to Python for Data Science Series\n",
    "\n",
    "# Video 2: Variables and Data Types in Python"
   ]
  },
  {
   "cell_type": "code",
   "execution_count": null,
   "id": "a9f219f8-3d39-4de5-aefd-04616917c8fc",
   "metadata": {},
   "outputs": [],
   "source": [
    "name = value\n",
    "\n",
    "# Naming convention\n",
    "# - No spaces\n",
    "# - lowercase\n",
    "# - no special characters  %*&, etc\n",
    "number_of_passengers = 255"
   ]
  },
  {
   "cell_type": "code",
   "execution_count": 2,
   "id": "3cb8892e-2c9d-44f2-8b26-450cb1528d81",
   "metadata": {},
   "outputs": [
    {
     "data": {
      "text/plain": [
       "8"
      ]
     },
     "execution_count": 2,
     "metadata": {},
     "output_type": "execute_result"
    }
   ],
   "source": [
    "x = 8\n",
    "x"
   ]
  },
  {
   "cell_type": "code",
   "execution_count": 3,
   "id": "af2eab0d-0555-46b7-8ef6-8bf4a833080d",
   "metadata": {},
   "outputs": [],
   "source": [
    "num_passengers = 255"
   ]
  },
  {
   "cell_type": "code",
   "execution_count": 4,
   "id": "62c3f25a-47f2-4004-ab50-614ff5334362",
   "metadata": {},
   "outputs": [
    {
     "name": "stdout",
     "output_type": "stream",
     "text": [
      "255\n"
     ]
    }
   ],
   "source": [
    "# This displays the value of a variable\n",
    "print(num_passengers)"
   ]
  },
  {
   "cell_type": "markdown",
   "id": "6f1526e8-4811-4fda-820d-f6bc4349a0dd",
   "metadata": {},
   "source": [
    "# Data Types"
   ]
  },
  {
   "cell_type": "code",
   "execution_count": null,
   "id": "b8393073-2dd9-4857-a5bb-bb746d551ff5",
   "metadata": {},
   "outputs": [],
   "source": [
    "# Integer - whole number\n",
    "my_int = -88\n",
    "# Float - number with a decimal point\n",
    "my_float = 8.2\n",
    "approx_pi = 3.141592\n",
    "challenge = 6.0\n",
    "# Boolean - True / False\n",
    "my_bool = True\n",
    "my_bool_2 = False\n",
    "# String - text\n",
    "university = \"University of North Carolina at Chapel Hill\"\n",
    "# How "
   ]
  }
 ],
 "metadata": {
  "kernelspec": {
   "display_name": "Python 3 (ipykernel)",
   "language": "python",
   "name": "python3"
  },
  "language_info": {
   "codemirror_mode": {
    "name": "ipython",
    "version": 3
   },
   "file_extension": ".py",
   "mimetype": "text/x-python",
   "name": "python",
   "nbconvert_exporter": "python",
   "pygments_lexer": "ipython3",
   "version": "3.9.7"
  }
 },
 "nbformat": 4,
 "nbformat_minor": 5
}
