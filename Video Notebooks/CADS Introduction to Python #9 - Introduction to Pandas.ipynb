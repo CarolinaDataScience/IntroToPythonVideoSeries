{
 "cells": [
  {
   "cell_type": "markdown",
   "id": "58f41cc8-b9bc-40a7-8d9c-922a511fe31d",
   "metadata": {},
   "source": [
    "Carolina Analytics and Data Science @ UNC<br>Introduction to Python for Data Science Series\n",
    "\n",
    "# Video 9 - Introduction to Pandas"
   ]
  },
  {
   "cell_type": "markdown",
   "id": "2f0b8ac3-05db-496a-930e-d7d82812d78b",
   "metadata": {},
   "source": [
    "## What are Packages?"
   ]
  },
  {
   "cell_type": "code",
   "execution_count": null,
   "id": "bbee62fc-ee66-445a-a570-cd018209b066",
   "metadata": {},
   "outputs": [],
   "source": [
    "# Packages contain code and functions written by other people\n",
    "# Allows us to do really powerful things\n",
    "\n",
    "# 1. Install package\n",
    "\n",
    "#2. Importing package\n",
    "\n",
    "import package as pkg\n",
    "\n",
    "pkg.function()\n"
   ]
  },
  {
   "cell_type": "markdown",
   "id": "28c68953-5d1e-404c-a425-6a1f53b8fc93",
   "metadata": {},
   "source": [
    "## Installing Pandas"
   ]
  },
  {
   "cell_type": "code",
   "execution_count": 2,
   "id": "c18bf511-5c96-4ab1-9eaa-40ca878d0e09",
   "metadata": {},
   "outputs": [
    {
     "name": "stdout",
     "output_type": "stream",
     "text": [
      "Requirement already satisfied: pandas in /Users/ajaygandecha/opt/anaconda3/lib/python3.9/site-packages (1.3.4)\n",
      "Requirement already satisfied: python-dateutil>=2.7.3 in /Users/ajaygandecha/opt/anaconda3/lib/python3.9/site-packages (from pandas) (2.8.2)\n",
      "Requirement already satisfied: pytz>=2017.3 in /Users/ajaygandecha/opt/anaconda3/lib/python3.9/site-packages (from pandas) (2021.3)\n",
      "Requirement already satisfied: numpy>=1.17.3 in /Users/ajaygandecha/opt/anaconda3/lib/python3.9/site-packages (from pandas) (1.20.3)\n",
      "Requirement already satisfied: six>=1.5 in /Users/ajaygandecha/opt/anaconda3/lib/python3.9/site-packages (from python-dateutil>=2.7.3->pandas) (1.16.0)\n"
     ]
    }
   ],
   "source": [
    "!pip3 install pandas"
   ]
  },
  {
   "cell_type": "markdown",
   "id": "cab1847c-9384-4393-8bbc-766e9f356f89",
   "metadata": {},
   "source": [
    "## Importing Pandas"
   ]
  },
  {
   "cell_type": "code",
   "execution_count": 3,
   "id": "d05db387-f2a8-498b-9dab-9e061546614b",
   "metadata": {},
   "outputs": [],
   "source": [
    "import pandas as pd"
   ]
  },
  {
   "cell_type": "markdown",
   "id": "2c7b8910-d09d-45ff-9e9d-8f56558d5149",
   "metadata": {},
   "source": [
    "## Introduction to DataFrames"
   ]
  },
  {
   "cell_type": "code",
   "execution_count": 5,
   "id": "c162e9ba-9a54-4f13-bbb4-cacc2fa846d6",
   "metadata": {},
   "outputs": [
    {
     "data": {
      "text/html": [
       "<div>\n",
       "<style scoped>\n",
       "    .dataframe tbody tr th:only-of-type {\n",
       "        vertical-align: middle;\n",
       "    }\n",
       "\n",
       "    .dataframe tbody tr th {\n",
       "        vertical-align: top;\n",
       "    }\n",
       "\n",
       "    .dataframe thead th {\n",
       "        text-align: right;\n",
       "    }\n",
       "</style>\n",
       "<table border=\"1\" class=\"dataframe\">\n",
       "  <thead>\n",
       "    <tr style=\"text-align: right;\">\n",
       "      <th></th>\n",
       "      <th>Brand</th>\n",
       "      <th>Model</th>\n",
       "      <th>TKL</th>\n",
       "    </tr>\n",
       "  </thead>\n",
       "  <tbody>\n",
       "    <tr>\n",
       "      <th>0</th>\n",
       "      <td>Logitech</td>\n",
       "      <td>MX Keys</td>\n",
       "      <td>False</td>\n",
       "    </tr>\n",
       "    <tr>\n",
       "      <th>1</th>\n",
       "      <td>Logitech</td>\n",
       "      <td>G915 TKL</td>\n",
       "      <td>True</td>\n",
       "    </tr>\n",
       "    <tr>\n",
       "      <th>2</th>\n",
       "      <td>Apple</td>\n",
       "      <td>Magic Keyboard</td>\n",
       "      <td>True</td>\n",
       "    </tr>\n",
       "  </tbody>\n",
       "</table>\n",
       "</div>"
      ],
      "text/plain": [
       "      Brand           Model    TKL\n",
       "0  Logitech         MX Keys  False\n",
       "1  Logitech        G915 TKL   True\n",
       "2     Apple  Magic Keyboard   True"
      ]
     },
     "execution_count": 5,
     "metadata": {},
     "output_type": "execute_result"
    }
   ],
   "source": [
    "# DataFrame - Table object in the Pandas package\n",
    "\n",
    "data = {\n",
    "    \"Brand\": [\"Logitech\", \"Logitech\", \"Apple\"],\n",
    "    \"Model\": [\"MX Keys\", \"G915 TKL\", \"Magic Keyboard\"],\n",
    "    \"TKL\": [False, True, True]\n",
    "}\n",
    "\n",
    "df = pd.DataFrame(data)\n",
    "df"
   ]
  },
  {
   "cell_type": "markdown",
   "id": "97e5ab6f-0421-4ec5-bff2-5d54db0641fa",
   "metadata": {},
   "source": [
    "## Importing Data"
   ]
  },
  {
   "cell_type": "code",
   "execution_count": 6,
   "id": "f51526dd-ca88-4bf4-9d70-8b604ea293f9",
   "metadata": {},
   "outputs": [],
   "source": [
    "# csv - comma-separated values\n",
    "\n",
    "airport_df = pd.read_csv(\"Airports.csv\")"
   ]
  },
  {
   "cell_type": "code",
   "execution_count": 9,
   "id": "4df11f1e-ab7c-42b8-b921-10f71c9ae718",
   "metadata": {},
   "outputs": [
    {
     "data": {
      "text/html": [
       "<div>\n",
       "<style scoped>\n",
       "    .dataframe tbody tr th:only-of-type {\n",
       "        vertical-align: middle;\n",
       "    }\n",
       "\n",
       "    .dataframe tbody tr th {\n",
       "        vertical-align: top;\n",
       "    }\n",
       "\n",
       "    .dataframe thead th {\n",
       "        text-align: right;\n",
       "    }\n",
       "</style>\n",
       "<table border=\"1\" class=\"dataframe\">\n",
       "  <thead>\n",
       "    <tr style=\"text-align: right;\">\n",
       "      <th></th>\n",
       "      <th>Rank</th>\n",
       "      <th>Airport</th>\n",
       "      <th>Location</th>\n",
       "      <th>Country</th>\n",
       "      <th>Code</th>\n",
       "      <th>Passengers</th>\n",
       "      <th>Year</th>\n",
       "    </tr>\n",
       "  </thead>\n",
       "  <tbody>\n",
       "    <tr>\n",
       "      <th>0</th>\n",
       "      <td>1</td>\n",
       "      <td>China Guangzhou Baiyun International Airport</td>\n",
       "      <td>Baiyun-Huadu, Guangzhou, Guangdong</td>\n",
       "      <td>China</td>\n",
       "      <td>CAN/ZGGG</td>\n",
       "      <td>43760427</td>\n",
       "      <td>2020</td>\n",
       "    </tr>\n",
       "    <tr>\n",
       "      <th>1</th>\n",
       "      <td>2</td>\n",
       "      <td>United States Hartsfield–Jackson Atlanta Inter...</td>\n",
       "      <td>Atlanta, Georgia</td>\n",
       "      <td>United States</td>\n",
       "      <td>ATL/KATL</td>\n",
       "      <td>42918685</td>\n",
       "      <td>2020</td>\n",
       "    </tr>\n",
       "    <tr>\n",
       "      <th>2</th>\n",
       "      <td>3</td>\n",
       "      <td>China Chengdu Shuangliu International Airport</td>\n",
       "      <td>Shuangliu-Wuhou, Chengdu, Sichuan</td>\n",
       "      <td>China</td>\n",
       "      <td>CTU/ZUUU</td>\n",
       "      <td>40741509</td>\n",
       "      <td>2020</td>\n",
       "    </tr>\n",
       "    <tr>\n",
       "      <th>3</th>\n",
       "      <td>4</td>\n",
       "      <td>United States Dallas/Fort Worth International ...</td>\n",
       "      <td>Dallas-Fort Worth, Texas</td>\n",
       "      <td>United States</td>\n",
       "      <td>DFW/KDFW</td>\n",
       "      <td>39364990</td>\n",
       "      <td>2020</td>\n",
       "    </tr>\n",
       "    <tr>\n",
       "      <th>4</th>\n",
       "      <td>5</td>\n",
       "      <td>China Shenzhen Bao'an International Airport</td>\n",
       "      <td>Bao'an, Shenzhen, Guangdong</td>\n",
       "      <td>China</td>\n",
       "      <td>SZX/ZGSZ</td>\n",
       "      <td>37916059</td>\n",
       "      <td>2020</td>\n",
       "    </tr>\n",
       "  </tbody>\n",
       "</table>\n",
       "</div>"
      ],
      "text/plain": [
       "   Rank                                            Airport  \\\n",
       "0     1       China Guangzhou Baiyun International Airport   \n",
       "1     2  United States Hartsfield–Jackson Atlanta Inter...   \n",
       "2     3      China Chengdu Shuangliu International Airport   \n",
       "3     4  United States Dallas/Fort Worth International ...   \n",
       "4     5        China Shenzhen Bao'an International Airport   \n",
       "\n",
       "                             Location        Country      Code  Passengers  \\\n",
       "0  Baiyun-Huadu, Guangzhou, Guangdong          China  CAN/ZGGG    43760427   \n",
       "1                    Atlanta, Georgia  United States  ATL/KATL    42918685   \n",
       "2   Shuangliu-Wuhou, Chengdu, Sichuan          China  CTU/ZUUU    40741509   \n",
       "3            Dallas-Fort Worth, Texas  United States  DFW/KDFW    39364990   \n",
       "4         Bao'an, Shenzhen, Guangdong          China  SZX/ZGSZ    37916059   \n",
       "\n",
       "   Year  \n",
       "0  2020  \n",
       "1  2020  \n",
       "2  2020  \n",
       "3  2020  \n",
       "4  2020  "
      ]
     },
     "execution_count": 9,
     "metadata": {},
     "output_type": "execute_result"
    }
   ],
   "source": [
    "airport_df.head()"
   ]
  },
  {
   "cell_type": "code",
   "execution_count": 10,
   "id": "101d7ebc-2083-461f-9291-c59aea70c593",
   "metadata": {},
   "outputs": [
    {
     "name": "stdout",
     "output_type": "stream",
     "text": [
      "<class 'pandas.core.frame.DataFrame'>\n",
      "RangeIndex: 250 entries, 0 to 249\n",
      "Data columns (total 7 columns):\n",
      " #   Column      Non-Null Count  Dtype \n",
      "---  ------      --------------  ----- \n",
      " 0   Rank        250 non-null    int64 \n",
      " 1   Airport     250 non-null    object\n",
      " 2   Location    250 non-null    object\n",
      " 3   Country     250 non-null    object\n",
      " 4   Code        250 non-null    object\n",
      " 5   Passengers  250 non-null    int64 \n",
      " 6   Year        250 non-null    int64 \n",
      "dtypes: int64(3), object(4)\n",
      "memory usage: 13.8+ KB\n"
     ]
    }
   ],
   "source": [
    "airport_df.info()"
   ]
  },
  {
   "cell_type": "code",
   "execution_count": null,
   "id": "4d4f8779-a19e-4111-8bae-1faf95d31401",
   "metadata": {},
   "outputs": [],
   "source": []
  }
 ],
 "metadata": {
  "kernelspec": {
   "display_name": "Python 3 (ipykernel)",
   "language": "python",
   "name": "python3"
  },
  "language_info": {
   "codemirror_mode": {
    "name": "ipython",
    "version": 3
   },
   "file_extension": ".py",
   "mimetype": "text/x-python",
   "name": "python",
   "nbconvert_exporter": "python",
   "pygments_lexer": "ipython3",
   "version": "3.9.7"
  }
 },
 "nbformat": 4,
 "nbformat_minor": 5
}
